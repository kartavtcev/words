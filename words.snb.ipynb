{
  "metadata" : {
    "id" : "edf4618b-5e50-4d09-882b-37217cb9411a",
    "name" : "words",
    "user_save_timestamp" : "1970-01-01T03:00:00.000Z",
    "auto_save_timestamp" : "1970-01-01T03:00:00.000Z",
    "language_info" : {
      "name" : "scala",
      "file_extension" : "scala",
      "codemirror_mode" : "text/x-scala"
    },
    "trusted" : true,
    "sparkNotebook" : null,
    "customLocalRepo" : null,
    "customRepos" : null,
    "customDeps" : null,
    "customImports" : null,
    "customArgs" : null,
    "customSparkConf" : null,
    "customVars" : null
  },
  "cells" : [
    {
      "metadata" : {
        "trusted" : true,
        "input_collapsed" : false,
        "collapsed" : false,
        "id" : "55564D0646A343D2AF9ED4CD0B6D4953"
      },
      "cell_type" : "code",
      "source" : [
        "import org.apache.spark._\n",
        "import org.apache.spark.SparkContext._\n",
        "import org.apache.spark.rdd._\n",
        "//import scala.io.Source\n",
        "\n",
        "object Helpers {\n",
        "    def using[A <: { def close(): Unit }, B](resource: A)(f: A => B): B =\n",
        "        try {\n",
        "            f(resource)\n",
        "        } finally {\n",
        "            resource.close()\n",
        "        }\n",
        "}\n",
        "\n",
        "import Helpers._\n",
        "\n",
        "val en : String = \"en\"\n",
        "val de : String = \"de\"\n",
        "val fr : String = \"fr\"\n",
        "\n",
        "val langs : List[String] = List(en, de, fr)\n",
        "\n",
        "case class Lemma(entry:String, default:String, pos:String)\n",
        "\n",
        "object Lemma {\n",
        "  def parse(line:String): Option[Lemma] = {\n",
        "    line.split(\" \") match { \n",
        "      case Array(f,s,t) => Some(Lemma(f, s, t))\n",
        "      case _ => None\n",
        "    }\n",
        "  }  \n",
        "}\n",
        "\n",
        "val lemmasPerLang: Map[String, List[Lemma]] = Map.empty\n",
        "val stopwordsPerLang: Map[String, List[String]] = Map.empty\n",
        "\n",
        "for(lang <- langs) {\n",
        "  //lemmasPerLang.updated(lang, List.empty)\n",
        "  using(scala.io.Source.fromFile(s\"notebooks/words/vocabs/$lang-lemmatizer.txt\")) { source => \n",
        "    for (line <- source.getLines) {\n",
        "      val list = lemmasPerLang.getOrElse(lang, List.empty)\n",
        "      Lemma.parse(line) match { case Some(lemma) => lemmasPerLang.updated(lang, list:+lemma) }      \n",
        "    }\n",
        "  }\n",
        "  using(scala.io.Source.fromFile(s\"notebooks/words/vocabs/$lang-stopwords.txt\")) { source => \n",
        "    for (line <- source.getLines) {\n",
        "      val list = stopwordsPerLang.getOrElse(lang, List.empty)\n",
        "      stopwordsPerLang.updated(lang, list:+line)  \n",
        "    }\n",
        "  }\n",
        "}\n",
        "\n",
        "\n",
        "\n"
      ],
      "outputs" : [
        {
          "name" : "stdout",
          "output_type" : "stream",
          "text" : "<console>:65: warning: match may not be exhaustive.\nIt would fail on the following input: None\n             Lemma.parse(line) match { case Some(lemma) => lemmasPerLang.updated(lang, list:+lemma) }\n                        ^\nscala.MatchError: None (of class scala.None$)\n  at $anonfun$1$$anonfun$apply$1$$anonfun$apply$2.apply(<console>:65)\n  at $anonfun$1$$anonfun$apply$1$$anonfun$apply$2.apply(<console>:63)\n  at scala.collection.Iterator$class.foreach(Iterator.scala:893)\n  at scala.collection.AbstractIterator.foreach(Iterator.scala:1336)\n  at $anonfun$1$$anonfun$apply$1.apply(<console>:63)\n  at $anonfun$1$$anonfun$apply$1.apply(<console>:62)\n  at Helpers$.using(<console>:30)\n  at $anonfun$1.apply(<console>:62)\n  at $anonfun$1.apply(<console>:60)\n  at scala.collection.immutable.List.foreach(List.scala:381)\n  ... 37 elided\n"
        }
      ]
    },
    {
      "metadata" : {
        "trusted" : true,
        "input_collapsed" : false,
        "collapsed" : true,
        "id" : "9644240B676949028D44569FB3AE0869"
      },
      "cell_type" : "code",
      "source" : [
        ""
      ],
      "outputs" : [ ]
    }
  ],
  "nbformat" : 4
}