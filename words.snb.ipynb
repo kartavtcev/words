{
  "metadata" : {
    "id" : "edf4618b-5e50-4d09-882b-37217cb9411a",
    "name" : "words",
    "user_save_timestamp" : "1970-01-01T03:00:00.000Z",
    "auto_save_timestamp" : "1970-01-01T03:00:00.000Z",
    "language_info" : {
      "name" : "scala",
      "file_extension" : "scala",
      "codemirror_mode" : "text/x-scala"
    },
    "trusted" : true,
    "sparkNotebook" : null,
    "customLocalRepo" : null,
    "customRepos" : null,
    "customDeps" : null,
    "customImports" : null,
    "customArgs" : null,
    "customSparkConf" : null,
    "customVars" : null
  },
  "cells" : [
    {
      "metadata" : {
        "trusted" : true,
        "input_collapsed" : false,
        "collapsed" : false,
        "id" : "55564D0646A343D2AF9ED4CD0B6D4953"
      },
      "cell_type" : "code",
      "source" : [
        "import org.apache.spark._\n",
        "import org.apache.spark.SparkContext._\n",
        "import org.apache.spark.rdd._\n",
        "//import scala.io.Source\n",
        "\n",
        "object Control {\n",
        "    def using[A <: { def close(): Unit }, B](resource: A)(f: A => B): B =\n",
        "        try {\n",
        "            f(resource)\n",
        "        } finally {\n",
        "            resource.close()\n",
        "        }\n",
        "}\n",
        "\n",
        "import Control._\n",
        "\n",
        "val en : String = \"en\"\n",
        "val de : String = \"de\"\n",
        "val fr : String = \"fr\"\n",
        "\n",
        "val langs : List[String] = List(en, de, fr)\n",
        "\n",
        "//println(new java.io.File(\".\").getCanonicalPath)\n",
        "using(scala.io.Source.fromFile(s\"notebooks/words/vocabs/$en-lemmatizer.txt\")) { source => {\n",
        "  for (line <- source.getLines) {\n",
        "    //println(line)\n",
        "  }\n",
        "}}\n",
        "\n"
      ],
      "outputs" : [
        {
          "name" : "stdout",
          "output_type" : "stream",
          "text" : "import org.apache.spark._\nimport org.apache.spark.SparkContext._\nimport org.apache.spark.rdd._\nimport scala.io.Source\ndefined object Control\nimport Control._\nen: String = en\nde: String = de\nfr: String = fr\nlangs: List[String] = List(en, de, fr)\n"
        },
        {
          "metadata" : { },
          "data" : {
            "text/html" : ""
          },
          "output_type" : "execute_result",
          "execution_count" : 2,
          "time" : "Took: 5.944s, at 2017-12-23 22:43"
        }
      ]
    },
    {
      "metadata" : {
        "trusted" : true,
        "input_collapsed" : false,
        "collapsed" : true,
        "id" : "91C757925C434F838F9703FBBD80DB1B"
      },
      "cell_type" : "code",
      "source" : [
        ""
      ],
      "outputs" : [ ]
    }
  ],
  "nbformat" : 4
}