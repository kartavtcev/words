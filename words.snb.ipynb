{
  "metadata" : {
    "id" : "edf4618b-5e50-4d09-882b-37217cb9411a",
    "name" : "words",
    "user_save_timestamp" : "1970-01-01T03:00:00.000Z",
    "auto_save_timestamp" : "1970-01-01T03:00:00.000Z",
    "language_info" : {
      "name" : "scala",
      "file_extension" : "scala",
      "codemirror_mode" : "text/x-scala"
    },
    "trusted" : true,
    "sparkNotebook" : null,
    "customLocalRepo" : null,
    "customRepos" : null,
    "customDeps" : null,
    "customImports" : null,
    "customArgs" : null,
    "customSparkConf" : null,
    "customVars" : null
  },
  "cells" : [
    {
      "metadata" : {
        "trusted" : true,
        "input_collapsed" : false,
        "collapsed" : false,
        "id" : "55564D0646A343D2AF9ED4CD0B6D4953"
      },
      "cell_type" : "code",
      "source" : [
        "import org.apache.spark._\n",
        "import org.apache.spark.SparkContext._\n",
        "import org.apache.spark.rdd._\n",
        "//import scala.io.Source\n",
        "\n",
        "object Helpers {\n",
        "    def using[A <: { def close(): Unit }, B](resource: A)(f: A => B): B =\n",
        "        try {\n",
        "            f(resource)\n",
        "        } finally {\n",
        "            resource.close()\n",
        "        }\n",
        "}\n",
        "\n",
        "import Helpers._\n",
        "\n",
        "val en : String = \"en\"\n",
        "val de : String = \"de\"\n",
        "val fr : String = \"fr\"\n",
        "\n",
        "val langs : List[String] = List(en, de, fr)\n",
        "\n",
        "case class Lemma(entry:String, default:String, pos:String)\n",
        "\n",
        "object Lemma {\n",
        "  def parse(line:String): Option[Lemma] = {\n",
        "    line.split(\" \") match { \n",
        "      case Array(f,s,t) => Some(Lemma(f, s, t))\n",
        "      case _ => None\n",
        "    }\n",
        "  }  \n",
        "}\n",
        "\n",
        "val lemmasPerLang: Map[String, List[Lemma]] = Map.empty\n",
        "val stopwordsPerLang: Map[String, List[String]] = Map.empty\n",
        "\n",
        "for(lang <- langs) {\n",
        "  using(scala.io.Source.fromFile(s\"notebooks/words/vocabs/$lang-lemmatizer.txt\")) { source => \n",
        "    for (line <- source.getLines) {\n",
        "      val list = lemmasPerLang.getOrElse(lang, List.empty)\n",
        "      Lemma.parse(line) match { \n",
        "        case Some(lemma) => lemmasPerLang.updated(lang, list:+lemma)\n",
        "        case _ =>;\n",
        "      }      \n",
        "    }\n",
        "  }\n",
        "  using(scala.io.Source.fromFile(s\"notebooks/words/vocabs/$lang-stopwords.txt\")) { source => \n",
        "    for (line <- source.getLines) {\n",
        "      val list = stopwordsPerLang.getOrElse(lang, List.empty)\n",
        "      stopwordsPerLang.updated(lang, list:+line)  \n",
        "    }\n",
        "  }\n",
        "}\n",
        "\n",
        "\n",
        "\n"
      ],
      "outputs" : [
        {
          "name" : "stdout",
          "output_type" : "stream",
          "text" : "import org.apache.spark._\nimport org.apache.spark.SparkContext._\nimport org.apache.spark.rdd._\ndefined object Helpers\nimport Helpers._\nen: String = en\nde: String = de\nfr: String = fr\nlangs: List[String] = List(en, de, fr)\ndefined class Lemma\ndefined object Lemma\nlemmasPerLang: Map[String,List[Lemma]] = Map()\nstopwordsPerLang: Map[String,List[String]] = Map()\n"
        },
        {
          "metadata" : { },
          "data" : {
            "text/html" : ""
          },
          "output_type" : "execute_result",
          "execution_count" : 2,
          "time" : "Took: 7.543s, at 2017-12-24 10:56"
        }
      ]
    },
    {
      "metadata" : {
        "trusted" : true,
        "input_collapsed" : false,
        "collapsed" : true,
        "id" : "D599871FF1FB4E1F8C78956D1E48D436"
      },
      "cell_type" : "code",
      "source" : [
        ""
      ],
      "outputs" : [ ]
    }
  ],
  "nbformat" : 4
}